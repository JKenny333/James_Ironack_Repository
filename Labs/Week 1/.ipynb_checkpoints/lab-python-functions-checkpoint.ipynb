{
 "cells": [
  {
   "cell_type": "markdown",
   "id": "25d7736c-ba17-4aff-b6bb-66eba20fbf4e",
   "metadata": {},
   "source": [
    "# Lab | Functions"
   ]
  },
  {
   "cell_type": "markdown",
   "id": "0c581062-8967-4d93-b06e-62833222f930",
   "metadata": {
    "tags": []
   },
   "source": [
    "## Exercise: Managing Customer Orders with Functions\n",
    "\n",
    "In the previous exercise, you improved the code for managing customer orders by using loops and flow control. Now, let's take it a step further and refactor the code by introducing functions.\n",
    "\n",
    "Follow the steps below to complete the exercise:\n",
    "\n",
    "1. Define a function named `initialize_inventory` that takes `products` as a parameter. Inside the function, implement the code for initializing the inventory dictionary using a loop and user input.\n",
    "\n",
    "2. Define a function named `get_customer_orders` that takes no parameters. Inside the function, implement the code for prompting the user to enter the product names using a loop. The function should return the `customer_orders` set.\n",
    "\n",
    "3. Define a function named `update_inventory` that takes `customer_orders` and `inventory` as parameters. Inside the function, implement the code for updating the inventory dictionary based on the customer orders.\n",
    "\n",
    "4. Define a function named `calculate_order_statistics` that takes `customer_orders` and `products` as parameters. Inside the function, implement the code for calculating the order statistics (total products ordered, and percentage of unique products ordered). The function should return these values.\n",
    "\n",
    "5. Define a function named `print_order_statistics` that takes `order_statistics` as a parameter. Inside the function, implement the code for printing the order statistics.\n",
    "\n",
    "6. Define a function named `print_updated_inventory` that takes `inventory` as a parameter. Inside the function, implement the code for printing the updated inventory.\n",
    "\n",
    "7. Call the functions in the appropriate sequence to execute the program and manage customer orders.\n",
    "\n",
    "Hints for functions:\n",
    "\n",
    "- Consider the input parameters required for each function and their return values.\n",
    "- Utilize function parameters and return values to transfer data between functions.\n",
    "- Test your functions individually to ensure they work correctly.\n",
    "\n",
    "\n"
   ]
  },
  {
   "cell_type": "code",
   "execution_count": 76,
   "id": "847a67f8",
   "metadata": {},
   "outputs": [
    {
     "name": "stdout",
     "output_type": "stream",
     "text": [
      "please enter the quantity of the product: t-shirt:5\n",
      "please enter the quantity of the product: mug:4\n",
      "please enter the quantity of the product: hat:3\n",
      "please enter the quantity of the product: book:2\n",
      "please enter the quantity of the product: keychain:1\n"
     ]
    }
   ],
   "source": [
    "#1\n",
    "\"\"\"\n",
    "Define a function named initialize_inventory that takes products as a parameter.\n",
    "Inside the function, implement the code for initializing the inventory dictionary using a loop and user input.\n",
    "\"\"\"\n",
    "products = [\"t-shirt\", \"mug\", \"hat\", \"book\", \"keychain\"]\n",
    "inventory = {}\n",
    "def initialize_inventory(products):\n",
    "    for product in products:\n",
    "        inventory[product] = int(input(f\"please enter the quantity of the product: {product}:\"))\n",
    "    \n",
    "initialize_inventory(products)"
   ]
  },
  {
   "cell_type": "code",
   "execution_count": 77,
   "id": "c56ab9bc",
   "metadata": {},
   "outputs": [
    {
     "name": "stdout",
     "output_type": "stream",
     "text": [
      "Please enter product you would like to order:hat\n",
      "Do you want to add another product?yes\n",
      "Please enter product you would like to order:mug\n",
      "Do you want to add another product?no\n",
      "{'hat', 'mug'}\n"
     ]
    }
   ],
   "source": [
    "#2\n",
    "\"\"\"\n",
    "Define a function named get_customer_orders that takes no parameters.\n",
    "Inside the function, implement the code for prompting the user to enter the product names using a loop.\n",
    "The function should return the customer_orders set.\n",
    "\"\"\"\n",
    "\n",
    "#Creating an empty set to store customer orders\n",
    "customer_orders = set()\n",
    "\n",
    "def get_customer_orders():\n",
    "    cont = \"yes\"\n",
    "    while cont == \"yes\":\n",
    "        customer_orders.add(input(\"Please enter product you would like to order:\"))\n",
    "        cont = input(\"Do you want to add another product?\")\n",
    "    return customer_orders\n",
    "\n",
    "get_customer_orders()\n",
    "print(customer_orders)"
   ]
  },
  {
   "cell_type": "code",
   "execution_count": 78,
   "id": "89c4333e",
   "metadata": {},
   "outputs": [
    {
     "data": {
      "text/plain": [
       "{'t-shirt': 5, 'mug': 3, 'hat': 2, 'book': 2, 'keychain': 1}"
      ]
     },
     "execution_count": 78,
     "metadata": {},
     "output_type": "execute_result"
    }
   ],
   "source": [
    "#3\n",
    "\n",
    "\"\"\"Define a function named update_inventory that takes customer_orders and inventory as parameters.\n",
    "Inside the function, implement the code for updating the inventory dictionary based on the customer orders.\"\"\"\n",
    "\n",
    "def update_inventory(customer_orders, inventory):\n",
    "    for product in customer_orders:\n",
    "        inventory[product] -= 1\n",
    "    return inventory\n",
    "\n",
    "\n",
    "update_inventory(customer_orders, inventory)"
   ]
  },
  {
   "cell_type": "code",
   "execution_count": 79,
   "id": "5b7d2dd8",
   "metadata": {},
   "outputs": [
    {
     "name": "stdout",
     "output_type": "stream",
     "text": [
      "(2, 40)\n"
     ]
    }
   ],
   "source": [
    "#4\n",
    "\"\"\"\n",
    "Define a function named calculate_order_statistics that takes customer_orders and products as parameters.\n",
    "Inside the function, implement the code for calculating the order statistics (total products ordered, and percentage of unique products ordered).\n",
    "The function should return these values.\"\"\"\n",
    "\n",
    "def calculate_order_statistics(customer_orders, products):\n",
    "    order_statistics = (int(len(customer_orders)), int(len(customer_orders)/len(products)*100))\n",
    "    return order_statistics\n",
    "\n",
    "order_statistics = calculate_order_statistics(customer_orders, products)\n",
    "print(order_statistics)"
   ]
  },
  {
   "cell_type": "code",
   "execution_count": 80,
   "id": "a4667375",
   "metadata": {},
   "outputs": [
    {
     "name": "stdout",
     "output_type": "stream",
     "text": [
      "Order Statistics:\n",
      "Total Products Ordered:2\n",
      "Percentage of Products Ordered:40%\n"
     ]
    }
   ],
   "source": [
    "#5\n",
    "\"\"\"\n",
    "Define a function named print_order_statistics that takes order_statistics as a parameter.\n",
    "Inside the function, implement the code for printing the order statistics.\"\"\"\n",
    "\n",
    "def print_order_statistics(order_statistics):\n",
    "    print(f\"Order Statistics:\\nTotal Products Ordered:{order_status[0]}\\nPercentage of Products Ordered:{order_status[1]}%\")\n",
    "    \n",
    "print_order_statistics(order_statistics)"
   ]
  },
  {
   "cell_type": "code",
   "execution_count": 81,
   "id": "fa743a27",
   "metadata": {},
   "outputs": [
    {
     "name": "stdout",
     "output_type": "stream",
     "text": [
      "t-shirt:5\n",
      "mug:3\n",
      "hat:2\n",
      "book:2\n",
      "keychain:1\n"
     ]
    }
   ],
   "source": [
    "#6\n",
    "\"\"\"\n",
    "Define a function named print_updated_inventory that takes inventory as a parameter.\n",
    "Inside the function, implement the code for printing the updated inventory.\n",
    "\"\"\"\n",
    "def print_updated_inventory(inventory):\n",
    "    for product,quantity in inventory.items():\n",
    "        print(f\"{product}:{quantity}\")\n",
    "        \n",
    "print_updated_inventory(inventory)"
   ]
  },
  {
   "cell_type": "code",
   "execution_count": null,
   "id": "5a229e20",
   "metadata": {},
   "outputs": [],
   "source": []
  }
 ],
 "metadata": {
  "kernelspec": {
   "display_name": "Python 3 (ipykernel)",
   "language": "python",
   "name": "python3"
  },
  "language_info": {
   "codemirror_mode": {
    "name": "ipython",
    "version": 3
   },
   "file_extension": ".py",
   "mimetype": "text/x-python",
   "name": "python",
   "nbconvert_exporter": "python",
   "pygments_lexer": "ipython3",
   "version": "3.11.5"
  }
 },
 "nbformat": 4,
 "nbformat_minor": 5
}
