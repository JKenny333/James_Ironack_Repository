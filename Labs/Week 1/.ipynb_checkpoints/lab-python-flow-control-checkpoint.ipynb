{
 "cells": [
  {
   "cell_type": "markdown",
   "id": "d3bfc191-8885-42ee-b0a0-bbab867c6f9f",
   "metadata": {
    "tags": []
   },
   "source": [
    "# Lab | Flow Control"
   ]
  },
  {
   "cell_type": "markdown",
   "id": "3851fcd1-cf98-4653-9c89-e003b7ec9400",
   "metadata": {},
   "source": [
    "## Exercise: Managing Customer Orders Optimized\n",
    "\n",
    "In the last lab, you were starting an online store that sells various products. To ensure smooth operations, you developed a program that manages customer orders and inventory.\n",
    "\n",
    "You did so without using flow control. Let's go a step further and improve this code.\n",
    "\n",
    "Follow the steps below to complete the exercise:\n",
    "\n",
    "1. Look at your code from the lab data structures, and improve repeated code with loops.\n",
    "\n",
    "2. Instead of asking the user to input the name of three products that a customer wants to order, do the following:\n",
    "    \n",
    "    a. Prompt the user to enter the name of a product that a customer wants to order.\n",
    "    \n",
    "    b. Add the product name to the \"customer_orders\" set.\n",
    "    \n",
    "    c. Ask the user if they want to add another product (yes/no).\n",
    "    \n",
    "    d. Continue the loop until the user does not want to add another product.\n",
    "\n",
    "3. Instead of updating the inventory by subtracting 1 from the quantity of each product, only do it for  the products that were ordered (those in \"customer_orders\")."
   ]
  },
  {
   "cell_type": "code",
   "execution_count": 20,
   "id": "66167504",
   "metadata": {},
   "outputs": [],
   "source": [
    "#Defining products list\n",
    "products = [\"t-shirt\", \"mug\", \"hat\", \"book\", \"keychain\"]"
   ]
  },
  {
   "cell_type": "code",
   "execution_count": 21,
   "id": "842b66b1",
   "metadata": {},
   "outputs": [],
   "source": [
    "#Creating empty dictionary for inventory\n",
    "inventory = {}"
   ]
  },
  {
   "cell_type": "code",
   "execution_count": 22,
   "id": "5d2e8f47",
   "metadata": {},
   "outputs": [
    {
     "name": "stdout",
     "output_type": "stream",
     "text": [
      "please enter the quantity of the product: t-shirt:5\n",
      "please enter the quantity of the product: mug:4\n",
      "please enter the quantity of the product: hat:3\n",
      "please enter the quantity of the product: book:2\n",
      "please enter the quantity of the product: keychain:1\n"
     ]
    }
   ],
   "source": [
    "#Prompts user to input quantity of each product\n",
    "for product in products:\n",
    "    inventory[product] = int(input(f\"please enter the quantity of the product: {product}:\"))"
   ]
  },
  {
   "cell_type": "code",
   "execution_count": 23,
   "id": "2522c7cc",
   "metadata": {},
   "outputs": [],
   "source": [
    "#Creating an empty set to store customer orders\n",
    "customer_orders = set()"
   ]
  },
  {
   "cell_type": "code",
   "execution_count": 24,
   "id": "49d4e757",
   "metadata": {},
   "outputs": [
    {
     "name": "stdout",
     "output_type": "stream",
     "text": [
      "Please enter product you would like to order:hat\n",
      "Do you want to add another product?yes\n",
      "Please enter product you would like to order:keychain\n",
      "Do you want to add another product?yes\n",
      "Please enter product you would like to order:book\n",
      "Do you want to add another product?no\n"
     ]
    }
   ],
   "source": [
    "#prompts the user to input the name of the procuct they would like to order, then prompts the user to ask if they want to add another product\n",
    "cont = \"yes\"\n",
    "\n",
    "while cont == \"yes\":\n",
    "    customer_orders.add(input(\"Please enter product you would like to order:\"))\n",
    "    cont = input(\"Do you want to add another product?\")\n"
   ]
  },
  {
   "cell_type": "code",
   "execution_count": 25,
   "id": "2c2a6d19",
   "metadata": {},
   "outputs": [
    {
     "name": "stdout",
     "output_type": "stream",
     "text": [
      "{'hat', 'keychain', 'book'}\n"
     ]
    }
   ],
   "source": [
    "#Prints the products the customer would like to order\n",
    "print(customer_orders)"
   ]
  },
  {
   "cell_type": "code",
   "execution_count": 26,
   "id": "e1ccca42",
   "metadata": {},
   "outputs": [
    {
     "name": "stdout",
     "output_type": "stream",
     "text": [
      "(3, 60)\n"
     ]
    }
   ],
   "source": [
    "#Calculates total products ordered and the percentage of products ordered compared to the total available products\n",
    "#Adds these statistics to tuple called order_status\n",
    "order_status = (int(len(customer_orders)), int(len(customer_orders)/len(products)*100))\n",
    "print(order_status)"
   ]
  },
  {
   "cell_type": "code",
   "execution_count": 27,
   "id": "f32277b4",
   "metadata": {},
   "outputs": [
    {
     "name": "stdout",
     "output_type": "stream",
     "text": [
      "Order Statistics:\n",
      "Total Products Ordered:\n",
      "Percentage of Products Ordered:60%\n"
     ]
    }
   ],
   "source": [
    "#Prints the order statistics in the desired format\n",
    "print(f\"Order Statistics:\\nTotal Products Ordered:\\nPercentage of Products Ordered:{order_status[1]}%\")"
   ]
  },
  {
   "cell_type": "code",
   "execution_count": 28,
   "id": "05d5a09d",
   "metadata": {},
   "outputs": [],
   "source": [
    "#Subtracts 1 from the quantity in the inventory for each product that was ordered\n",
    "for product in customer_orders:\n",
    "    inventory[product] -= 1\n"
   ]
  },
  {
   "cell_type": "code",
   "execution_count": 29,
   "id": "9f8384ea",
   "metadata": {},
   "outputs": [
    {
     "name": "stdout",
     "output_type": "stream",
     "text": [
      "t-shirt:5\n",
      "mug:4\n",
      "hat:2\n",
      "book:1\n",
      "keychain:0\n"
     ]
    }
   ],
   "source": [
    "#Prints each product and its corresponding quantity on a new line\n",
    "for product,quantity in inventory.items():\n",
    "    print(f\"{product}:{quantity}\")"
   ]
  },
  {
   "cell_type": "code",
   "execution_count": null,
   "id": "f7668c8e",
   "metadata": {},
   "outputs": [],
   "source": []
  }
 ],
 "metadata": {
  "kernelspec": {
   "display_name": "Python 3 (ipykernel)",
   "language": "python",
   "name": "python3"
  },
  "language_info": {
   "codemirror_mode": {
    "name": "ipython",
    "version": 3
   },
   "file_extension": ".py",
   "mimetype": "text/x-python",
   "name": "python",
   "nbconvert_exporter": "python",
   "pygments_lexer": "ipython3",
   "version": "3.11.5"
  }
 },
 "nbformat": 4,
 "nbformat_minor": 5
}
